{
 "cells": [
  {
   "cell_type": "markdown",
   "metadata": {},
   "source": [
    "## Problem 1: Geocode shopping centers (5 points)\n",
    "\n",
    "The overall aim of problems 1-3 is to find out **how many people live within a walking distance (1.5 km) from certain shopping centers in Helsinki**.\n",
    "\n",
    "In problem 1 aim is to find out the addresses of shopping centers and to retreive numercal coordinates for these addresses. As an output, we will have a Shapefile called `shopping_centers.shp` which contains the geocoded result.\n",
    "\n",
    "**Preparation:** Find out the addresses for following shopping centers from the internet, and write the addresses into a text file called `shopping_centers.txt`:\n",
    "\n",
    " - Itis\n",
    " - Forum\n",
    " - Iso-omena\n",
    " - Sello\n",
    " - Jumbo\n",
    " - REDI\n",
    " - Tripla \n",
    " \n",
    " *Hint for \"Tripla\": This shopping center opened in October 10 2019, and if you are doing this exercise soon after that, the official address might not yet be in online databases. \n",
    " Check for an address nearby the Pasila railway station on OpenStreetMap.org and use that as input.*\n",
    "\n",
    "`shopping_centers.txt` should have semicolon (`;`) as a separator, and the file should include the following columns:\n",
    "\n",
    "- ``id`` (integer) containing an unique identifier for each shopping center\n",
    "- ``name`` (string) of each shopping center\n",
    "- ``addr`` (string) the address \n",
    "\n",
    "\n",
    "See and example of how to format the text file [in the lesson 3 materials](https://automating-gis-processes.github.io/site/master/notebooks/L3/geocoding_in_geopandas.html). Save (and upload) the text file into your exercise repository.\n",
    "\n",
    "- Read `shopping_centers.txt` that you just created into a pandas DataFrame called ``data``:"
   ]
  },
  {
   "cell_type": "code",
   "execution_count": 61,
   "metadata": {
    "deletable": false,
    "nbgrader": {
     "cell_type": "code",
     "checksum": "7de89a15a19f7c81c62cc7fe98d6b668",
     "grade": false,
     "grade_id": "read_data",
     "locked": false,
     "schema_version": 3,
     "solution": true
    }
   },
   "outputs": [],
   "source": [
    "# Import modules\n",
    "from shapely.geometry import Point, LineString\n",
    "import geopandas as gpd\n",
    "from geopandas.tools import geocode\n",
    "import pandas as pd\n",
    "from pyproj import CRS\n",
    "# Read the data (replace \"None\" with your own code)\n",
    "fp = \"shopping_centers.txt\"\n",
    "data = pd.read_csv(fp, sep=\";\")\n"
   ]
  },
  {
   "cell_type": "code",
   "execution_count": 62,
   "metadata": {
    "deletable": false,
    "editable": false,
    "nbgrader": {
     "cell_type": "code",
     "checksum": "4e90dc0406dff7a0f4b0860443092087",
     "grade": true,
     "grade_id": "problem_1_read_data_tests",
     "locked": true,
     "points": 1,
     "schema_version": 3,
     "solution": false
    }
   },
   "outputs": [
    {
     "name": "stdout",
     "output_type": "stream",
     "text": [
      "   id       name                                            addr\n",
      "0   0       Itis            Itäkatu 1-7, 00930 Helsinki, Finland\n",
      "1   1      Forum  Mannerheimintie 14-20, 00100 Helsinki, Finland\n",
      "2   2  Iso-Omena           Piispansilta 11, 02230 Espoo, Finland\n",
      "3   3      Sello       Leppävaarankatu 3-9, 02600 Espoo, Finland\n",
      "4   4      Jumbo               Vantaanportinkatu 3, 01510 Vantaa\n",
      "5   5       REDI            Hermannin rantatie 5, 00580 Helsinki\n",
      "6   6     Tripla                 Pasilansilta 11, 00520 Helsinki\n"
     ]
    }
   ],
   "source": [
    "#NON-EDITABLE TEST CELL\n",
    "# Check your input data\n",
    "print(data)"
   ]
  },
  {
   "cell_type": "markdown",
   "metadata": {},
   "source": [
    "- Geocode the addresses using the Nominatim geocoding service. Store the output in a variable called `geo`:"
   ]
  },
  {
   "cell_type": "code",
   "execution_count": 63,
   "metadata": {
    "deletable": false,
    "nbgrader": {
     "cell_type": "code",
     "checksum": "2feb8b7739bd1a824b39c3a1d0af369f",
     "grade": false,
     "grade_id": "geocode",
     "locked": false,
     "schema_version": 3,
     "solution": true
    }
   },
   "outputs": [],
   "source": [
    "# Geocode the addresses using Nominatim\n",
    "geo = geocode(data['addr'], provider='nominatim', user_agent='autogis_2022', timeout=4)\n"
   ]
  },
  {
   "cell_type": "code",
   "execution_count": 64,
   "metadata": {
    "deletable": false,
    "editable": false,
    "nbgrader": {
     "cell_type": "code",
     "checksum": "a3b8c4fef69c89dbb3299b84c11d3db7",
     "grade": true,
     "grade_id": "problem_1_gdf_test",
     "locked": true,
     "points": 1,
     "schema_version": 3,
     "solution": false,
     "task": false
    }
   },
   "outputs": [
    {
     "name": "stdout",
     "output_type": "stream",
     "text": [
      "                    geometry  \\\n",
      "0  POINT (25.08294 60.21170)   \n",
      "1  POINT (24.93828 60.16878)   \n",
      "2  POINT (24.73833 60.16129)   \n",
      "3  POINT (24.81042 60.21752)   \n",
      "4  POINT (24.96282 60.29245)   \n",
      "5  POINT (24.97904 60.18702)   \n",
      "6  POINT (24.93089 60.19764)   \n",
      "\n",
      "                                             address  \n",
      "0  Kauppakeskus Itis, 1-7, Itäkatu, Itäkeskus, Va...  \n",
      "1  Salaattiasema, 14-20, Mannerheimintie, Keskust...  \n",
      "2  Iso Omena, 11, Piispansilta, Matinkylä, Suur-M...  \n",
      "3  Lasten kappeli Arkki, 3-9, Leppävaarankatu, Sä...  \n",
      "4  Stockmann, 3, Vantaanportinkatu, Vantaanportti...  \n",
      "5  Silta, 5, Hermannin rantatie, Verkkosaari, Kal...  \n",
      "6  Pasilansilta, Keski-Pasila, Pasila, Keskinen s...  \n"
     ]
    }
   ],
   "source": [
    "#NON-EDITABLE TEST CELL\n",
    "# Check the geocoded output\n",
    "print(geo)"
   ]
  },
  {
   "cell_type": "code",
   "execution_count": 65,
   "metadata": {
    "deletable": false,
    "editable": false,
    "nbgrader": {
     "cell_type": "code",
     "checksum": "f2e432e605330a668b5bfdbbbd12569e",
     "grade": true,
     "grade_id": "problem_1_geocode_tests",
     "locked": true,
     "points": 1,
     "schema_version": 3,
     "solution": false
    }
   },
   "outputs": [
    {
     "name": "stdout",
     "output_type": "stream",
     "text": [
      "<class 'geopandas.geodataframe.GeoDataFrame'>\n"
     ]
    }
   ],
   "source": [
    "#NON-EDITABLE TEST CELL\n",
    "# Check the data type (should be a GeoDataFrame!)\n",
    "print(type(geo))"
   ]
  },
  {
   "cell_type": "markdown",
   "metadata": {},
   "source": [
    "Check that the coordinate reference system of the geocoded result is correctly defined, and **reproject the layer into ETRS GK-25** (EPSG:3879):"
   ]
  },
  {
   "cell_type": "code",
   "execution_count": 66,
   "metadata": {
    "deletable": false,
    "nbgrader": {
     "cell_type": "code",
     "checksum": "b0159d35f45f5454fae6b5d67858b986",
     "grade": false,
     "grade_id": "crs",
     "locked": false,
     "schema_version": 3,
     "solution": true
    }
   },
   "outputs": [],
   "source": [
    "# REPLACE THE ERROR BELOW WITH YOUR OWN CODE\n",
    "if geo.crs != 3879:\n",
    "    geo.to_crs(epsg=3879, inplace=True)"
   ]
  },
  {
   "cell_type": "code",
   "execution_count": 67,
   "metadata": {
    "deletable": false,
    "editable": false,
    "nbgrader": {
     "cell_type": "code",
     "checksum": "764cba257612241267e3b2bcc90b5dcd",
     "grade": true,
     "grade_id": "problem_1_crs_test",
     "locked": true,
     "points": 0.5,
     "schema_version": 3,
     "solution": false
    }
   },
   "outputs": [
    {
     "name": "stdout",
     "output_type": "stream",
     "text": [
      "epsg:3879\n"
     ]
    }
   ],
   "source": [
    "#NON-EDITABLE TEST CELL\n",
    "# Check layer crs\n",
    "print(geo.crs)"
   ]
  },
  {
   "cell_type": "markdown",
   "metadata": {},
   "source": [
    "- Make a table join between the geocoded addresses (``geo``) and the original addresses (``data``) in order to link the numerical coordinates and  the `id` and `name` of each shopping center. \n",
    "- Store the output in a variable called ``geodata`` \n"
   ]
  },
  {
   "cell_type": "code",
   "execution_count": 68,
   "metadata": {
    "deletable": false,
    "nbgrader": {
     "cell_type": "code",
     "checksum": "aca9ef4ece824d53650aec8c0fafc38d",
     "grade": false,
     "grade_id": "join",
     "locked": false,
     "schema_version": 3,
     "solution": true
    }
   },
   "outputs": [],
   "source": [
    "# Join the tables\n",
    "geodata = geo.join(data)\n"
   ]
  },
  {
   "cell_type": "code",
   "execution_count": 69,
   "metadata": {
    "deletable": false,
    "editable": false,
    "nbgrader": {
     "cell_type": "code",
     "checksum": "98d25baeb42eaeb2701f09f42c8c84c5",
     "grade": true,
     "grade_id": "problem_1_join_test",
     "locked": true,
     "points": 1,
     "schema_version": 3,
     "solution": false
    }
   },
   "outputs": [
    {
     "name": "stdout",
     "output_type": "stream",
     "text": [
      "                           geometry  \\\n",
      "0  POINT (25504598.602 6677662.109)   \n",
      "1  POINT (25496573.542 6672878.360)   \n",
      "2  POINT (25485470.196 6672071.413)   \n",
      "3  POINT (25489491.076 6678322.265)   \n",
      "4  POINT (25497943.932 6686656.982)   \n",
      "\n",
      "                                             address  id       name  \\\n",
      "0  Kauppakeskus Itis, 1-7, Itäkatu, Itäkeskus, Va...   0       Itis   \n",
      "1  Salaattiasema, 14-20, Mannerheimintie, Keskust...   1      Forum   \n",
      "2  Iso Omena, 11, Piispansilta, Matinkylä, Suur-M...   2  Iso-Omena   \n",
      "3  Lasten kappeli Arkki, 3-9, Leppävaarankatu, Sä...   3      Sello   \n",
      "4  Stockmann, 3, Vantaanportinkatu, Vantaanportti...   4      Jumbo   \n",
      "\n",
      "                                             addr  \n",
      "0            Itäkatu 1-7, 00930 Helsinki, Finland  \n",
      "1  Mannerheimintie 14-20, 00100 Helsinki, Finland  \n",
      "2           Piispansilta 11, 02230 Espoo, Finland  \n",
      "3       Leppävaarankatu 3-9, 02600 Espoo, Finland  \n",
      "4               Vantaanportinkatu 3, 01510 Vantaa  \n"
     ]
    }
   ],
   "source": [
    "#NON-EDITABLE TEST CELL\n",
    "# Check the join output\n",
    "print(geodata.head())"
   ]
  },
  {
   "cell_type": "markdown",
   "metadata": {},
   "source": [
    "- Save the output as a Shapefile called `shopping_centers.shp` "
   ]
  },
  {
   "cell_type": "code",
   "execution_count": 70,
   "metadata": {
    "deletable": false,
    "nbgrader": {
     "cell_type": "code",
     "checksum": "362eacaf5abe4a319dda3a28a04ef594",
     "grade": false,
     "grade_id": "save_data",
     "locked": false,
     "schema_version": 3,
     "solution": true
    }
   },
   "outputs": [],
   "source": [
    "# Define output filepath\n",
    "out_fp = \"shopping_centers.shp\"\n",
    "\n",
    "# Save file\n",
    "geodata.to_file(out_fp)"
   ]
  },
  {
   "cell_type": "code",
   "execution_count": 71,
   "metadata": {
    "deletable": false,
    "editable": false,
    "nbgrader": {
     "cell_type": "code",
     "checksum": "80aac786841c50c2fd08ca078bc13a56",
     "grade": true,
     "grade_id": "problem_1_save_data_test",
     "locked": true,
     "points": 0.5,
     "schema_version": 3,
     "solution": false
    }
   },
   "outputs": [
    {
     "name": "stdout",
     "output_type": "stream",
     "text": [
      "Geocoded output is stored in this file: shopping_centers.shp\n"
     ]
    }
   ],
   "source": [
    "#NON-EDITABLE TEST CELL\n",
    "# Print info about output file\n",
    "print(\"Geocoded output is stored in this file:\", out_fp)"
   ]
  },
  {
   "cell_type": "markdown",
   "metadata": {},
   "source": [
    "## Problem 2: Create buffers around shopping centers (5 points)\n",
    "\n",
    "Let's continue with our case study and calculate a 1.5 km buffer around the geocoded points. \n",
    "\n",
    "\n",
    "- Start by creating a new column called `buffer` to ``geodata`` GeoDataFrame:"
   ]
  },
  {
   "cell_type": "code",
   "execution_count": 72,
   "metadata": {
    "deletable": false,
    "nbgrader": {
     "cell_type": "code",
     "checksum": "908d9a6ea9f7776e8eeeefcfe920c9a0",
     "grade": false,
     "grade_id": "new_column",
     "locked": false,
     "schema_version": 3,
     "solution": true
    }
   },
   "outputs": [],
   "source": [
    "# REPLACE THE ERROR BELOW WITH YOUR OWN CODE\n",
    "geodata[\"buffer\"] = \"\""
   ]
  },
  {
   "cell_type": "markdown",
   "metadata": {},
   "source": [
    "- Calculate a 1.5 km buffer for each geocoded point. Store the buffer geometry in the new `buffer` column.\n",
    "\n",
    "Here, you can use the [GeoDataFrame buffer() method](http://geopandas.org/geometric_manipulations.html#GeoSeries.buffer), which uses Shapely's [buffer](http://toblerity.org/shapely/manual.html#object.buffer) in the bacground. You only need to use the `distance` -parameter, don't worry about the other parameters."
   ]
  },
  {
   "cell_type": "code",
   "execution_count": 73,
   "metadata": {
    "deletable": false,
    "nbgrader": {
     "cell_type": "code",
     "checksum": "f45cb9b3fa88f50f0f83991d3f132643",
     "grade": false,
     "grade_id": "buffer",
     "locked": false,
     "schema_version": 3,
     "solution": true
    }
   },
   "outputs": [],
   "source": [
    "# REPLACE THE ERROR BELOW WITH YOUR OWN CODE\n",
    "geodata[\"buffer\"] = geodata.buffer(distance=1500)"
   ]
  },
  {
   "cell_type": "code",
   "execution_count": 74,
   "metadata": {
    "deletable": false,
    "editable": false,
    "nbgrader": {
     "cell_type": "code",
     "checksum": "e2765a36c4eb2331624d3b990eccfe9f",
     "grade": true,
     "grade_id": "problem_2_column_test",
     "locked": true,
     "points": 1,
     "schema_version": 3,
     "solution": false,
     "task": false
    }
   },
   "outputs": [
    {
     "name": "stdout",
     "output_type": "stream",
     "text": [
      "                           geometry  \\\n",
      "0  POINT (25504598.602 6677662.109)   \n",
      "1  POINT (25496573.542 6672878.360)   \n",
      "2  POINT (25485470.196 6672071.413)   \n",
      "3  POINT (25489491.076 6678322.265)   \n",
      "4  POINT (25497943.932 6686656.982)   \n",
      "\n",
      "                                             address  id       name  \\\n",
      "0  Kauppakeskus Itis, 1-7, Itäkatu, Itäkeskus, Va...   0       Itis   \n",
      "1  Salaattiasema, 14-20, Mannerheimintie, Keskust...   1      Forum   \n",
      "2  Iso Omena, 11, Piispansilta, Matinkylä, Suur-M...   2  Iso-Omena   \n",
      "3  Lasten kappeli Arkki, 3-9, Leppävaarankatu, Sä...   3      Sello   \n",
      "4  Stockmann, 3, Vantaanportinkatu, Vantaanportti...   4      Jumbo   \n",
      "\n",
      "                                             addr  \\\n",
      "0            Itäkatu 1-7, 00930 Helsinki, Finland   \n",
      "1  Mannerheimintie 14-20, 00100 Helsinki, Finland   \n",
      "2           Piispansilta 11, 02230 Espoo, Finland   \n",
      "3       Leppävaarankatu 3-9, 02600 Espoo, Finland   \n",
      "4               Vantaanportinkatu 3, 01510 Vantaa   \n",
      "\n",
      "                                              buffer  \n",
      "0  POLYGON ((25506098.602 6677662.109, 25506091.3...  \n",
      "1  POLYGON ((25498073.542 6672878.360, 25498066.3...  \n",
      "2  POLYGON ((25486970.196 6672071.413, 25486962.9...  \n",
      "3  POLYGON ((25490991.076 6678322.265, 25490983.8...  \n",
      "4  POLYGON ((25499443.932 6686656.982, 25499436.7...  \n"
     ]
    }
   ],
   "source": [
    "#NON-EDITABLE TEST CELL\n",
    "print(geodata.head())"
   ]
  },
  {
   "cell_type": "code",
   "execution_count": 75,
   "metadata": {
    "deletable": false,
    "editable": false,
    "nbgrader": {
     "cell_type": "code",
     "checksum": "3aa92b08ec2320d792f9de905622df3d",
     "grade": true,
     "grade_id": "problem_2_shape_test",
     "locked": true,
     "points": 1,
     "schema_version": 3,
     "solution": false,
     "task": false
    }
   },
   "outputs": [
    {
     "name": "stdout",
     "output_type": "stream",
     "text": [
      "<class 'shapely.geometry.polygon.Polygon'>\n"
     ]
    }
   ],
   "source": [
    "#NON-EDITABLE TEST CELL\n",
    "# Check the data type of the first value in the buffer-column\n",
    "print(type(geodata.at[0,'buffer']))"
   ]
  },
  {
   "cell_type": "code",
   "execution_count": 76,
   "metadata": {
    "deletable": false,
    "editable": false,
    "nbgrader": {
     "cell_type": "code",
     "checksum": "d6e0fe9059fff655e76e4ca36a024253",
     "grade": true,
     "grade_id": "problem_2_buffer_test",
     "locked": true,
     "points": 2,
     "schema_version": 3,
     "solution": false
    }
   },
   "outputs": [
    {
     "name": "stdout",
     "output_type": "stream",
     "text": [
      "0    7.0\n",
      "1    7.0\n",
      "2    7.0\n",
      "3    7.0\n",
      "4    7.0\n",
      "5    7.0\n",
      "6    7.0\n",
      "dtype: float64\n"
     ]
    }
   ],
   "source": [
    "#NON-EDITABLE TEST CELL\n",
    "# Check the areas of your buffers in km^2\n",
    "print(round(gpd.GeoSeries(geodata[\"buffer\"]).area / 1000000))"
   ]
  },
  {
   "cell_type": "markdown",
   "metadata": {},
   "source": [
    "- Replace the values in `geometry` column with the values of `buffer` column:"
   ]
  },
  {
   "cell_type": "code",
   "execution_count": 77,
   "metadata": {
    "deletable": false,
    "nbgrader": {
     "cell_type": "code",
     "checksum": "4dbc3cfc149f2391c1c6b4274603a8e9",
     "grade": false,
     "grade_id": "geometry",
     "locked": false,
     "schema_version": 3,
     "solution": true
    }
   },
   "outputs": [],
   "source": [
    "# REPLACE THE ERROR BELOW WITH YOUR OWN CODE\n",
    "geodata[\"geometry\"] = geodata[\"buffer\"]"
   ]
  },
  {
   "cell_type": "code",
   "execution_count": 78,
   "metadata": {
    "deletable": false,
    "editable": false,
    "nbgrader": {
     "cell_type": "code",
     "checksum": "47a972c42e423c1597440885fa571d34",
     "grade": true,
     "grade_id": "problem_2_geometry_test",
     "locked": true,
     "points": 1,
     "schema_version": 3,
     "solution": false
    }
   },
   "outputs": [
    {
     "name": "stdout",
     "output_type": "stream",
     "text": [
      "                                            geometry  \\\n",
      "0  POLYGON ((25506098.602 6677662.109, 25506091.3...   \n",
      "1  POLYGON ((25498073.542 6672878.360, 25498066.3...   \n",
      "2  POLYGON ((25486970.196 6672071.413, 25486962.9...   \n",
      "3  POLYGON ((25490991.076 6678322.265, 25490983.8...   \n",
      "4  POLYGON ((25499443.932 6686656.982, 25499436.7...   \n",
      "\n",
      "                                             address  id       name  \\\n",
      "0  Kauppakeskus Itis, 1-7, Itäkatu, Itäkeskus, Va...   0       Itis   \n",
      "1  Salaattiasema, 14-20, Mannerheimintie, Keskust...   1      Forum   \n",
      "2  Iso Omena, 11, Piispansilta, Matinkylä, Suur-M...   2  Iso-Omena   \n",
      "3  Lasten kappeli Arkki, 3-9, Leppävaarankatu, Sä...   3      Sello   \n",
      "4  Stockmann, 3, Vantaanportinkatu, Vantaanportti...   4      Jumbo   \n",
      "\n",
      "                                             addr  \\\n",
      "0            Itäkatu 1-7, 00930 Helsinki, Finland   \n",
      "1  Mannerheimintie 14-20, 00100 Helsinki, Finland   \n",
      "2           Piispansilta 11, 02230 Espoo, Finland   \n",
      "3       Leppävaarankatu 3-9, 02600 Espoo, Finland   \n",
      "4               Vantaanportinkatu 3, 01510 Vantaa   \n",
      "\n",
      "                                              buffer  \n",
      "0  POLYGON ((25506098.602 6677662.109, 25506091.3...  \n",
      "1  POLYGON ((25498073.542 6672878.360, 25498066.3...  \n",
      "2  POLYGON ((25486970.196 6672071.413, 25486962.9...  \n",
      "3  POLYGON ((25490991.076 6678322.265, 25490983.8...  \n",
      "4  POLYGON ((25499443.932 6686656.982, 25499436.7...  \n"
     ]
    }
   ],
   "source": [
    "#NON-EDITABLE TEST CELL\n",
    "print(geodata.head())"
   ]
  },
  {
   "cell_type": "markdown",
   "metadata": {},
   "source": [
    "Optional: at this point, you can drop out unnecessary columns from the geodataframe. In the next problem, \n",
    "we will only need these columns: `'id', 'name', 'geometry'`"
   ]
  },
  {
   "cell_type": "code",
   "execution_count": 79,
   "metadata": {},
   "outputs": [],
   "source": [
    "# HT: `inplace=True` will be deprecated in the future. You should do this by: geodata = geodata.drop( ... )\n",
    "geodata.drop([\"address\", \"addr\", \"buffer\"], inplace=True,axis=1)"
   ]
  },
  {
   "cell_type": "markdown",
   "metadata": {},
   "source": [
    "## Problem 3: How many people live near shopping centers? (5 points)\n",
    "\n",
    "Last step in our analysis is to make a spatial join between our buffer layer and population data in order to find out **how many people live near each shopping center**. We will use the same data as we did during [lesson 3](https://automating-gis-processes.github.io/site/notebooks/L3/spatial-join.html#Spatial-join); **a Population Grid** that is available via the HSY wfs. \n",
    "\n",
    "Alternatively, you can also download the data from the [Helsinki Region Infoshare (HRI)](https://www.hsy.fi/fi/asiantuntijalle/avoindata/Sivut/AvoinData.aspx?dataID=7) as a shapefile (using wget).\n",
    "\n",
    "The coordinate reference system of the population grid is **ETRS GK-25 (EPSG:3879)**.\n",
    "\n",
    "\n",
    "**Steps:**\n",
    "\n",
    "- Read the population grid into a geodataframe\n",
    "\n",
    "- Select only the useful columns from the population grid: ``'asukkaita'`` (=population count per grid square) and ``'geometry'`` \n",
    "\n",
    "- Make a spatial join between your buffered point layer and population grid layer. Join the information now from buffer layer **into the population grid layer**\n",
    "\n",
    "- Group the joined layer by shopping center index\n",
    "\n",
    "- Calculate the sum of population living within 1.5 km for each shopping center.\n",
    "\n",
    "**Finally:**\n",
    "\n",
    "- Print out the population living within 1.5 km from each shopping center:\n",
    "\n",
    "     - Itis\n",
    "     - Forum\n",
    "     - Iso-omena\n",
    "     - Sello\n",
    "     - Jumbo\n",
    "     - REDI\n",
    "     - Tripla\n",
    "     \n",
    "**Final print out should contain both the shopping center name and population count**, for example: `26532 people live within 1.5 km from Iso-Omena`.\n",
    "\n",
    "*Feel free to divide your solution into several codeblocks! Remember to comment your code  :)*"
   ]
  },
  {
   "cell_type": "code",
   "execution_count": 80,
   "metadata": {
    "deletable": false,
    "nbgrader": {
     "cell_type": "code",
     "checksum": "629fe93329c8fe47162e31b2cd8c260e",
     "grade": false,
     "grade_id": "read_wfs",
     "locked": false,
     "schema_version": 3,
     "solution": true,
     "task": false
    }
   },
   "outputs": [],
   "source": [
    "# Read population grid data for 2018 into a variable `pop`. \n",
    "fd = \"Vaestoruudukko_2018.shp\"\n",
    "pop = gpd.read_file(fd)\n",
    "pop.to_crs(epsg=3879,inplace=True)\n",
    "pop = pop[[\"ASUKKAITA\",\"geometry\"]]\n"
   ]
  },
  {
   "cell_type": "code",
   "execution_count": 81,
   "metadata": {
    "deletable": false,
    "editable": false,
    "nbgrader": {
     "cell_type": "code",
     "checksum": "8fe4f1ecd4466cf975714202c832be7e",
     "grade": true,
     "grade_id": "problem_3_read_data_test",
     "locked": true,
     "points": 1,
     "schema_version": 3,
     "solution": false,
     "task": false
    }
   },
   "outputs": [
    {
     "name": "stdout",
     "output_type": "stream",
     "text": [
      "Number of rows: 5832\n",
      "   ASUKKAITA                                           geometry\n",
      "0          9  POLYGON Z ((25472499.995 6689749.005 0.000, 25...\n",
      "1          5  POLYGON Z ((25472499.995 6685998.998 0.000, 25...\n",
      "2          8  POLYGON Z ((25472499.995 6684249.004 0.000, 25...\n"
     ]
    }
   ],
   "source": [
    "#NON-EDITABLE TEST CELL\n",
    "# Check your input data\n",
    "print(\"Number of rows:\", len(pop))\n",
    "print(pop.head(3))"
   ]
  },
  {
   "cell_type": "code",
   "execution_count": 108,
   "metadata": {
    "deletable": false,
    "nbgrader": {
     "cell_type": "code",
     "checksum": "92e87958a8ce4e2b8e5ae77689445df8",
     "grade": false,
     "grade_id": "spatial_join",
     "locked": false,
     "schema_version": 3,
     "solution": true
    }
   },
   "outputs": [
    {
     "data": {
      "text/html": [
       "<div>\n",
       "<style scoped>\n",
       "    .dataframe tbody tr th:only-of-type {\n",
       "        vertical-align: middle;\n",
       "    }\n",
       "\n",
       "    .dataframe tbody tr th {\n",
       "        vertical-align: top;\n",
       "    }\n",
       "\n",
       "    .dataframe thead th {\n",
       "        text-align: right;\n",
       "    }\n",
       "</style>\n",
       "<table border=\"1\" class=\"dataframe\">\n",
       "  <thead>\n",
       "    <tr style=\"text-align: right;\">\n",
       "      <th></th>\n",
       "      <th>ASUKKAITA</th>\n",
       "      <th>geometry</th>\n",
       "      <th>index_right</th>\n",
       "      <th>id</th>\n",
       "      <th>name</th>\n",
       "    </tr>\n",
       "  </thead>\n",
       "  <tbody>\n",
       "    <tr>\n",
       "      <th>1154</th>\n",
       "      <td>116</td>\n",
       "      <td>POLYGON Z ((25484250.000 6672499.005 0.000, 25...</td>\n",
       "      <td>2</td>\n",
       "      <td>2</td>\n",
       "      <td>Iso-Omena</td>\n",
       "    </tr>\n",
       "    <tr>\n",
       "      <th>1155</th>\n",
       "      <td>78</td>\n",
       "      <td>POLYGON Z ((25484250.000 6672249.006 0.000, 25...</td>\n",
       "      <td>2</td>\n",
       "      <td>2</td>\n",
       "      <td>Iso-Omena</td>\n",
       "    </tr>\n",
       "    <tr>\n",
       "      <th>1156</th>\n",
       "      <td>16</td>\n",
       "      <td>POLYGON Z ((25484250.000 6671748.997 0.000, 25...</td>\n",
       "      <td>2</td>\n",
       "      <td>2</td>\n",
       "      <td>Iso-Omena</td>\n",
       "    </tr>\n",
       "    <tr>\n",
       "      <th>1216</th>\n",
       "      <td>114</td>\n",
       "      <td>POLYGON Z ((25484499.998 6672749.004 0.000, 25...</td>\n",
       "      <td>2</td>\n",
       "      <td>2</td>\n",
       "      <td>Iso-Omena</td>\n",
       "    </tr>\n",
       "    <tr>\n",
       "      <th>1217</th>\n",
       "      <td>128</td>\n",
       "      <td>POLYGON Z ((25484499.998 6672499.005 0.000, 25...</td>\n",
       "      <td>2</td>\n",
       "      <td>2</td>\n",
       "      <td>Iso-Omena</td>\n",
       "    </tr>\n",
       "    <tr>\n",
       "      <th>1973</th>\n",
       "      <td>6</td>\n",
       "      <td>POLYGON Z ((25488249.995 6678499.004 0.000, 25...</td>\n",
       "      <td>3</td>\n",
       "      <td>3</td>\n",
       "      <td>Sello</td>\n",
       "    </tr>\n",
       "    <tr>\n",
       "      <th>1974</th>\n",
       "      <td>185</td>\n",
       "      <td>POLYGON Z ((25488249.995 6678249.005 0.000, 25...</td>\n",
       "      <td>3</td>\n",
       "      <td>3</td>\n",
       "      <td>Sello</td>\n",
       "    </tr>\n",
       "    <tr>\n",
       "      <th>1975</th>\n",
       "      <td>331</td>\n",
       "      <td>POLYGON Z ((25488249.995 6677999.006 0.000, 25...</td>\n",
       "      <td>3</td>\n",
       "      <td>3</td>\n",
       "      <td>Sello</td>\n",
       "    </tr>\n",
       "    <tr>\n",
       "      <th>1976</th>\n",
       "      <td>29</td>\n",
       "      <td>POLYGON Z ((25488249.995 6677748.997 0.000, 25...</td>\n",
       "      <td>3</td>\n",
       "      <td>3</td>\n",
       "      <td>Sello</td>\n",
       "    </tr>\n",
       "    <tr>\n",
       "      <th>1977</th>\n",
       "      <td>27</td>\n",
       "      <td>POLYGON Z ((25488249.995 6677498.998 0.000, 25...</td>\n",
       "      <td>3</td>\n",
       "      <td>3</td>\n",
       "      <td>Sello</td>\n",
       "    </tr>\n",
       "    <tr>\n",
       "      <th>3181</th>\n",
       "      <td>445</td>\n",
       "      <td>POLYGON Z ((25494750.000 6676249.002 0.000, 25...</td>\n",
       "      <td>6</td>\n",
       "      <td>6</td>\n",
       "      <td>Tripla</td>\n",
       "    </tr>\n",
       "    <tr>\n",
       "      <th>3182</th>\n",
       "      <td>305</td>\n",
       "      <td>POLYGON Z ((25494750.000 6675999.003 0.000, 25...</td>\n",
       "      <td>6</td>\n",
       "      <td>6</td>\n",
       "      <td>Tripla</td>\n",
       "    </tr>\n",
       "    <tr>\n",
       "      <th>3207</th>\n",
       "      <td>14</td>\n",
       "      <td>POLYGON Z ((25494999.998 6675999.003 0.000, 25...</td>\n",
       "      <td>6</td>\n",
       "      <td>6</td>\n",
       "      <td>Tripla</td>\n",
       "    </tr>\n",
       "    <tr>\n",
       "      <th>3208</th>\n",
       "      <td>186</td>\n",
       "      <td>POLYGON Z ((25494999.998 6675499.004 0.000, 25...</td>\n",
       "      <td>6</td>\n",
       "      <td>6</td>\n",
       "      <td>Tripla</td>\n",
       "    </tr>\n",
       "    <tr>\n",
       "      <th>3209</th>\n",
       "      <td>535</td>\n",
       "      <td>POLYGON Z ((25494999.998 6675249.005 0.000, 25...</td>\n",
       "      <td>6</td>\n",
       "      <td>6</td>\n",
       "      <td>Tripla</td>\n",
       "    </tr>\n",
       "    <tr>\n",
       "      <th>3250</th>\n",
       "      <td>468</td>\n",
       "      <td>POLYGON Z ((25495249.995 6673249.002 0.000, 25...</td>\n",
       "      <td>1</td>\n",
       "      <td>1</td>\n",
       "      <td>Forum</td>\n",
       "    </tr>\n",
       "    <tr>\n",
       "      <th>3251</th>\n",
       "      <td>33</td>\n",
       "      <td>POLYGON Z ((25495249.995 6672999.003 0.000, 25...</td>\n",
       "      <td>1</td>\n",
       "      <td>1</td>\n",
       "      <td>Forum</td>\n",
       "    </tr>\n",
       "    <tr>\n",
       "      <th>3252</th>\n",
       "      <td>515</td>\n",
       "      <td>POLYGON Z ((25495249.995 6672249.006 0.000, 25...</td>\n",
       "      <td>1</td>\n",
       "      <td>1</td>\n",
       "      <td>Forum</td>\n",
       "    </tr>\n",
       "    <tr>\n",
       "      <th>3290</th>\n",
       "      <td>2123</td>\n",
       "      <td>POLYGON Z ((25495499.993 6673499.001 0.000, 25...</td>\n",
       "      <td>1</td>\n",
       "      <td>1</td>\n",
       "      <td>Forum</td>\n",
       "    </tr>\n",
       "    <tr>\n",
       "      <th>3291</th>\n",
       "      <td>1955</td>\n",
       "      <td>POLYGON Z ((25495499.993 6673249.002 0.000, 25...</td>\n",
       "      <td>1</td>\n",
       "      <td>1</td>\n",
       "      <td>Forum</td>\n",
       "    </tr>\n",
       "    <tr>\n",
       "      <th>3402</th>\n",
       "      <td>8</td>\n",
       "      <td>POLYGON Z ((25496500.000 6686749.005 0.000, 25...</td>\n",
       "      <td>4</td>\n",
       "      <td>4</td>\n",
       "      <td>Jumbo</td>\n",
       "    </tr>\n",
       "    <tr>\n",
       "      <th>3403</th>\n",
       "      <td>113</td>\n",
       "      <td>POLYGON Z ((25496500.000 6686499.006 0.000, 25...</td>\n",
       "      <td>4</td>\n",
       "      <td>4</td>\n",
       "      <td>Jumbo</td>\n",
       "    </tr>\n",
       "    <tr>\n",
       "      <th>3448</th>\n",
       "      <td>42</td>\n",
       "      <td>POLYGON Z ((25496749.998 6686749.005 0.000, 25...</td>\n",
       "      <td>4</td>\n",
       "      <td>4</td>\n",
       "      <td>Jumbo</td>\n",
       "    </tr>\n",
       "    <tr>\n",
       "      <th>3449</th>\n",
       "      <td>359</td>\n",
       "      <td>POLYGON Z ((25496749.998 6686499.006 0.000, 25...</td>\n",
       "      <td>4</td>\n",
       "      <td>4</td>\n",
       "      <td>Jumbo</td>\n",
       "    </tr>\n",
       "    <tr>\n",
       "      <th>3450</th>\n",
       "      <td>143</td>\n",
       "      <td>POLYGON Z ((25496749.998 6686248.997 0.000, 25...</td>\n",
       "      <td>4</td>\n",
       "      <td>4</td>\n",
       "      <td>Jumbo</td>\n",
       "    </tr>\n",
       "    <tr>\n",
       "      <th>3629</th>\n",
       "      <td>378</td>\n",
       "      <td>POLYGON Z ((25497499.999 6675249.005 0.000, 25...</td>\n",
       "      <td>5</td>\n",
       "      <td>5</td>\n",
       "      <td>REDI</td>\n",
       "    </tr>\n",
       "    <tr>\n",
       "      <th>3630</th>\n",
       "      <td>2016</td>\n",
       "      <td>POLYGON Z ((25497499.999 6674999.006 0.000, 25...</td>\n",
       "      <td>5</td>\n",
       "      <td>5</td>\n",
       "      <td>REDI</td>\n",
       "    </tr>\n",
       "    <tr>\n",
       "      <th>3631</th>\n",
       "      <td>1811</td>\n",
       "      <td>POLYGON Z ((25497499.999 6674748.997 0.000, 25...</td>\n",
       "      <td>5</td>\n",
       "      <td>5</td>\n",
       "      <td>REDI</td>\n",
       "    </tr>\n",
       "    <tr>\n",
       "      <th>3632</th>\n",
       "      <td>1554</td>\n",
       "      <td>POLYGON Z ((25497499.999 6674498.998 0.000, 25...</td>\n",
       "      <td>5</td>\n",
       "      <td>5</td>\n",
       "      <td>REDI</td>\n",
       "    </tr>\n",
       "    <tr>\n",
       "      <th>3633</th>\n",
       "      <td>844</td>\n",
       "      <td>POLYGON Z ((25497499.999 6674248.999 0.000, 25...</td>\n",
       "      <td>5</td>\n",
       "      <td>5</td>\n",
       "      <td>REDI</td>\n",
       "    </tr>\n",
       "    <tr>\n",
       "      <th>4718</th>\n",
       "      <td>139</td>\n",
       "      <td>POLYGON Z ((25503249.994 6677999.006 0.000, 25...</td>\n",
       "      <td>0</td>\n",
       "      <td>0</td>\n",
       "      <td>Itis</td>\n",
       "    </tr>\n",
       "    <tr>\n",
       "      <th>4783</th>\n",
       "      <td>263</td>\n",
       "      <td>POLYGON Z ((25503500.000 6678249.005 0.000, 25...</td>\n",
       "      <td>0</td>\n",
       "      <td>0</td>\n",
       "      <td>Itis</td>\n",
       "    </tr>\n",
       "    <tr>\n",
       "      <th>4784</th>\n",
       "      <td>239</td>\n",
       "      <td>POLYGON Z ((25503500.000 6677999.006 0.000, 25...</td>\n",
       "      <td>0</td>\n",
       "      <td>0</td>\n",
       "      <td>Itis</td>\n",
       "    </tr>\n",
       "    <tr>\n",
       "      <th>4785</th>\n",
       "      <td>159</td>\n",
       "      <td>POLYGON Z ((25503500.000 6676998.999 0.000, 25...</td>\n",
       "      <td>0</td>\n",
       "      <td>0</td>\n",
       "      <td>Itis</td>\n",
       "    </tr>\n",
       "    <tr>\n",
       "      <th>4846</th>\n",
       "      <td>128</td>\n",
       "      <td>POLYGON Z ((25503749.998 6678499.004 0.000, 25...</td>\n",
       "      <td>0</td>\n",
       "      <td>0</td>\n",
       "      <td>Itis</td>\n",
       "    </tr>\n",
       "  </tbody>\n",
       "</table>\n",
       "</div>"
      ],
      "text/plain": [
       "      ASUKKAITA                                           geometry  \\\n",
       "1154        116  POLYGON Z ((25484250.000 6672499.005 0.000, 25...   \n",
       "1155         78  POLYGON Z ((25484250.000 6672249.006 0.000, 25...   \n",
       "1156         16  POLYGON Z ((25484250.000 6671748.997 0.000, 25...   \n",
       "1216        114  POLYGON Z ((25484499.998 6672749.004 0.000, 25...   \n",
       "1217        128  POLYGON Z ((25484499.998 6672499.005 0.000, 25...   \n",
       "1973          6  POLYGON Z ((25488249.995 6678499.004 0.000, 25...   \n",
       "1974        185  POLYGON Z ((25488249.995 6678249.005 0.000, 25...   \n",
       "1975        331  POLYGON Z ((25488249.995 6677999.006 0.000, 25...   \n",
       "1976         29  POLYGON Z ((25488249.995 6677748.997 0.000, 25...   \n",
       "1977         27  POLYGON Z ((25488249.995 6677498.998 0.000, 25...   \n",
       "3181        445  POLYGON Z ((25494750.000 6676249.002 0.000, 25...   \n",
       "3182        305  POLYGON Z ((25494750.000 6675999.003 0.000, 25...   \n",
       "3207         14  POLYGON Z ((25494999.998 6675999.003 0.000, 25...   \n",
       "3208        186  POLYGON Z ((25494999.998 6675499.004 0.000, 25...   \n",
       "3209        535  POLYGON Z ((25494999.998 6675249.005 0.000, 25...   \n",
       "3250        468  POLYGON Z ((25495249.995 6673249.002 0.000, 25...   \n",
       "3251         33  POLYGON Z ((25495249.995 6672999.003 0.000, 25...   \n",
       "3252        515  POLYGON Z ((25495249.995 6672249.006 0.000, 25...   \n",
       "3290       2123  POLYGON Z ((25495499.993 6673499.001 0.000, 25...   \n",
       "3291       1955  POLYGON Z ((25495499.993 6673249.002 0.000, 25...   \n",
       "3402          8  POLYGON Z ((25496500.000 6686749.005 0.000, 25...   \n",
       "3403        113  POLYGON Z ((25496500.000 6686499.006 0.000, 25...   \n",
       "3448         42  POLYGON Z ((25496749.998 6686749.005 0.000, 25...   \n",
       "3449        359  POLYGON Z ((25496749.998 6686499.006 0.000, 25...   \n",
       "3450        143  POLYGON Z ((25496749.998 6686248.997 0.000, 25...   \n",
       "3629        378  POLYGON Z ((25497499.999 6675249.005 0.000, 25...   \n",
       "3630       2016  POLYGON Z ((25497499.999 6674999.006 0.000, 25...   \n",
       "3631       1811  POLYGON Z ((25497499.999 6674748.997 0.000, 25...   \n",
       "3632       1554  POLYGON Z ((25497499.999 6674498.998 0.000, 25...   \n",
       "3633        844  POLYGON Z ((25497499.999 6674248.999 0.000, 25...   \n",
       "4718        139  POLYGON Z ((25503249.994 6677999.006 0.000, 25...   \n",
       "4783        263  POLYGON Z ((25503500.000 6678249.005 0.000, 25...   \n",
       "4784        239  POLYGON Z ((25503500.000 6677999.006 0.000, 25...   \n",
       "4785        159  POLYGON Z ((25503500.000 6676998.999 0.000, 25...   \n",
       "4846        128  POLYGON Z ((25503749.998 6678499.004 0.000, 25...   \n",
       "\n",
       "      index_right  id       name  \n",
       "1154            2   2  Iso-Omena  \n",
       "1155            2   2  Iso-Omena  \n",
       "1156            2   2  Iso-Omena  \n",
       "1216            2   2  Iso-Omena  \n",
       "1217            2   2  Iso-Omena  \n",
       "1973            3   3      Sello  \n",
       "1974            3   3      Sello  \n",
       "1975            3   3      Sello  \n",
       "1976            3   3      Sello  \n",
       "1977            3   3      Sello  \n",
       "3181            6   6     Tripla  \n",
       "3182            6   6     Tripla  \n",
       "3207            6   6     Tripla  \n",
       "3208            6   6     Tripla  \n",
       "3209            6   6     Tripla  \n",
       "3250            1   1      Forum  \n",
       "3251            1   1      Forum  \n",
       "3252            1   1      Forum  \n",
       "3290            1   1      Forum  \n",
       "3291            1   1      Forum  \n",
       "3402            4   4      Jumbo  \n",
       "3403            4   4      Jumbo  \n",
       "3448            4   4      Jumbo  \n",
       "3449            4   4      Jumbo  \n",
       "3450            4   4      Jumbo  \n",
       "3629            5   5       REDI  \n",
       "3630            5   5       REDI  \n",
       "3631            5   5       REDI  \n",
       "3632            5   5       REDI  \n",
       "3633            5   5       REDI  \n",
       "4718            0   0       Itis  \n",
       "4783            0   0       Itis  \n",
       "4784            0   0       Itis  \n",
       "4785            0   0       Itis  \n",
       "4846            0   0       Itis  "
      ]
     },
     "execution_count": 108,
     "metadata": {},
     "output_type": "execute_result"
    }
   ],
   "source": [
    "# Create a spatial join between grid layer and buffer layer. \n",
    "if geodata.crs != pop.crs:\n",
    "    geodata = geodata.to_crs(pop.crs)\n",
    "join = gpd.sjoin(pop, geodata, how=\"inner\", predicate=\"within\")\n",
    "grouped = join.groupby(\"id\")\n"
   ]
  },
  {
   "cell_type": "code",
   "execution_count": 111,
   "metadata": {
    "deletable": false,
    "nbgrader": {
     "cell_type": "code",
     "checksum": "fe6b621e6f3d39eb5aa375c864268a03",
     "grade": false,
     "grade_id": "print_results",
     "locked": false,
     "schema_version": 3,
     "solution": true,
     "task": false
    }
   },
   "outputs": [
    {
     "data": {
      "text/plain": [
       "id\n",
       "0    21008\n",
       "1    56891\n",
       "2    26390\n",
       "3    20965\n",
       "4    10569\n",
       "5    24913\n",
       "6    23678\n",
       "Name: ASUKKAITA, dtype: int64"
      ]
     },
     "execution_count": 111,
     "metadata": {},
     "output_type": "execute_result"
    }
   ],
   "source": [
    "grouped[\"ASUKKAITA\"].sum()"
   ]
  },
  {
   "cell_type": "markdown",
   "metadata": {},
   "source": [
    "**Reflections:**\n",
    "    \n",
    "- How challenging did you find problems 1-3 (on scale to 1-5), and why?\n",
    "- What was easy?\n",
    "- What was difficult?"
   ]
  },
  {
   "cell_type": "markdown",
   "metadata": {
    "deletable": false,
    "nbgrader": {
     "cell_type": "markdown",
     "checksum": "ae8c161a5ec09a095453240cd41b6da8",
     "grade": true,
     "grade_id": "problem_3_Check_problem_3",
     "locked": false,
     "points": 4,
     "schema_version": 3,
     "solution": true
    }
   },
   "source": [
    "I think this challenge was moderately difficult. The most difficult part for me was to try to get the wfs connection to work, but I could not\n",
    "figure it out so decided to go with downloading the .zip file"
   ]
  },
  {
   "cell_type": "markdown",
   "metadata": {},
   "source": [
    "Well done! Now you can continue to [problem 4](Exercise-3-Problem-4.ipynb)"
   ]
  }
 ],
 "metadata": {
  "anaconda-cloud": {},
  "kernelspec": {
   "display_name": "Python 3 (ipykernel)",
   "language": "python",
   "name": "python3"
  },
  "language_info": {
   "codemirror_mode": {
    "name": "ipython",
    "version": 3
   },
   "file_extension": ".py",
   "mimetype": "text/x-python",
   "name": "python",
   "nbconvert_exporter": "python",
   "pygments_lexer": "ipython3",
   "version": "3.9.7"
  }
 },
 "nbformat": 4,
 "nbformat_minor": 4
}
